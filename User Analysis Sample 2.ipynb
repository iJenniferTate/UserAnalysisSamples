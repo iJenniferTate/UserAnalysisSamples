{
 "cells": [
  {
   "cell_type": "markdown",
   "metadata": {},
   "source": [
    "## User Analysis II -  Loyalty status & purchase activity\n",
    "\n",
    "\n",
    "### 1. Users by Loyalty Status overall \n",
    "\n",
    "- Average user Loyalty Status is between 1 & 2 clustered close with standard deviation 1. The close distribution implies customer volumes are consistent with minimal variance. This is also supported by user percent allocated across loyalty statuses being near even (see user loyalty chart on next pg.)\n",
    "\n",
    "\n",
    "### 2. User completed purchases by Loyalty Status\n",
    "\n",
    "- Percent completed purchases per loyalty status followed the overall pattern of consistent user allocation except 0 varied slightly as lower \n",
    "\n",
    "- Customers with a loyalty status 1-3 made 61% of purchases- aligning to market average for repeat clients of 65% given Status 0 has all or most non-repeat clients. This supports Status 0 having the most users yet Status 1 having the most purchases. Also, status 1 had slightly more users than 2-3."
   ]
  },
  {
   "cell_type": "code",
   "execution_count": 2,
   "metadata": {},
   "outputs": [],
   "source": [
    "import pandas as pd\n",
    "import numpy as py"
   ]
  },
  {
   "cell_type": "markdown",
   "metadata": {},
   "source": [
    "#### General Dataset"
   ]
  },
  {
   "cell_type": "code",
   "execution_count": 6,
   "metadata": {
    "scrolled": false
   },
   "outputs": [
    {
     "data": {
      "text/html": [
       "<div>\n",
       "<style scoped>\n",
       "    .dataframe tbody tr th:only-of-type {\n",
       "        vertical-align: middle;\n",
       "    }\n",
       "\n",
       "    .dataframe tbody tr th {\n",
       "        vertical-align: top;\n",
       "    }\n",
       "\n",
       "    .dataframe thead th {\n",
       "        text-align: right;\n",
       "    }\n",
       "</style>\n",
       "<table border=\"1\" class=\"dataframe\">\n",
       "  <thead>\n",
       "    <tr style=\"text-align: right;\">\n",
       "      <th></th>\n",
       "      <th>ride_id</th>\n",
       "      <th>user_id</th>\n",
       "      <th>loyalty.status</th>\n",
       "      <th>booking_id</th>\n",
       "      <th>isGuest</th>\n",
       "      <th>loyalty_points_earned</th>\n",
       "      <th>price.loyalty.points_spent</th>\n",
       "      <th>price_nominal</th>\n",
       "      <th>price_after_discount</th>\n",
       "      <th>state</th>\n",
       "      <th>quote_date</th>\n",
       "    </tr>\n",
       "  </thead>\n",
       "  <tbody>\n",
       "    <tr>\n",
       "      <td>0</td>\n",
       "      <td>357a545ef665da69dd86ac33ae817f3a</td>\n",
       "      <td>c6f3a631ae33a84c343dd9c553889337</td>\n",
       "      <td>1</td>\n",
       "      <td>1ea36f95a86a5a876456ce66587f4882</td>\n",
       "      <td>False</td>\n",
       "      <td>0</td>\n",
       "      <td>NaN</td>\n",
       "      <td>5.48</td>\n",
       "      <td>5.80</td>\n",
       "      <td>not_completed</td>\n",
       "      <td>2017-03-01 11:07:49</td>\n",
       "    </tr>\n",
       "    <tr>\n",
       "      <td>1</td>\n",
       "      <td>5714536c4b4b1b10c4cd8ac907537044</td>\n",
       "      <td>0bad5fc7936b072d8de8749b9dd608c6</td>\n",
       "      <td>1</td>\n",
       "      <td>NaN</td>\n",
       "      <td>False</td>\n",
       "      <td>0</td>\n",
       "      <td>NaN</td>\n",
       "      <td>4.72</td>\n",
       "      <td>4.72</td>\n",
       "      <td>not_completed</td>\n",
       "      <td>2017-03-02 22:45:02</td>\n",
       "    </tr>\n",
       "    <tr>\n",
       "      <td>2</td>\n",
       "      <td>5c8f5dec570b6597090f8b30ea33b0af</td>\n",
       "      <td>0bad5fc7936b072d8de8749b9dd608c6</td>\n",
       "      <td>1</td>\n",
       "      <td>NaN</td>\n",
       "      <td>False</td>\n",
       "      <td>5</td>\n",
       "      <td>NaN</td>\n",
       "      <td>4.72</td>\n",
       "      <td>4.72</td>\n",
       "      <td>completed</td>\n",
       "      <td>2017-03-02 22:45:22</td>\n",
       "    </tr>\n",
       "    <tr>\n",
       "      <td>3</td>\n",
       "      <td>0f37be24f23a15746eb8774e7a1bd934</td>\n",
       "      <td>37169a3d6636e14afabb1dbe01f5c83e</td>\n",
       "      <td>0</td>\n",
       "      <td>NaN</td>\n",
       "      <td>False</td>\n",
       "      <td>8</td>\n",
       "      <td>NaN</td>\n",
       "      <td>7.68</td>\n",
       "      <td>7.68</td>\n",
       "      <td>completed</td>\n",
       "      <td>2017-03-03 00:22:45</td>\n",
       "    </tr>\n",
       "    <tr>\n",
       "      <td>4</td>\n",
       "      <td>67f054abb8b60132dd7c19cb30e74e10</td>\n",
       "      <td>b89d8219faa82966c7b33ee69b484ad2</td>\n",
       "      <td>3</td>\n",
       "      <td>NaN</td>\n",
       "      <td>False</td>\n",
       "      <td>7</td>\n",
       "      <td>NaN</td>\n",
       "      <td>4.00</td>\n",
       "      <td>4.00</td>\n",
       "      <td>completed</td>\n",
       "      <td>2017-03-04 03:32:15</td>\n",
       "    </tr>\n",
       "    <tr>\n",
       "      <td>...</td>\n",
       "      <td>...</td>\n",
       "      <td>...</td>\n",
       "      <td>...</td>\n",
       "      <td>...</td>\n",
       "      <td>...</td>\n",
       "      <td>...</td>\n",
       "      <td>...</td>\n",
       "      <td>...</td>\n",
       "      <td>...</td>\n",
       "      <td>...</td>\n",
       "      <td>...</td>\n",
       "    </tr>\n",
       "    <tr>\n",
       "      <td>1445659</td>\n",
       "      <td>790a5ce8fb2253953f99f08978d792ba</td>\n",
       "      <td>53e3cb5a4410c965300760b69f61a1c4</td>\n",
       "      <td>2</td>\n",
       "      <td>NaN</td>\n",
       "      <td>False</td>\n",
       "      <td>8</td>\n",
       "      <td>NaN</td>\n",
       "      <td>5.95</td>\n",
       "      <td>5.95</td>\n",
       "      <td>completed</td>\n",
       "      <td>2017-05-19 22:59:30</td>\n",
       "    </tr>\n",
       "    <tr>\n",
       "      <td>1445660</td>\n",
       "      <td>014a51a17ea56cb91040c7273fd50b15</td>\n",
       "      <td>4c3df7a611fe860a54fb0799e0001903</td>\n",
       "      <td>1</td>\n",
       "      <td>NaN</td>\n",
       "      <td>False</td>\n",
       "      <td>9</td>\n",
       "      <td>NaN</td>\n",
       "      <td>8.85</td>\n",
       "      <td>8.85</td>\n",
       "      <td>completed</td>\n",
       "      <td>2017-05-20 05:14:17</td>\n",
       "    </tr>\n",
       "    <tr>\n",
       "      <td>1445661</td>\n",
       "      <td>510083d4ed088808455d6db48f60e3ca</td>\n",
       "      <td>7ca9825c2744adf0ec4505e379a28b73</td>\n",
       "      <td>1</td>\n",
       "      <td>NaN</td>\n",
       "      <td>False</td>\n",
       "      <td>6</td>\n",
       "      <td>NaN</td>\n",
       "      <td>4.10</td>\n",
       "      <td>4.10</td>\n",
       "      <td>completed</td>\n",
       "      <td>2017-05-21 20:57:58</td>\n",
       "    </tr>\n",
       "    <tr>\n",
       "      <td>1445662</td>\n",
       "      <td>df315daa45794ac80001878f50e6f363</td>\n",
       "      <td>8f100f37bb092089f418936edc0f94c9</td>\n",
       "      <td>3</td>\n",
       "      <td>NaN</td>\n",
       "      <td>False</td>\n",
       "      <td>0</td>\n",
       "      <td>NaN</td>\n",
       "      <td>7.72</td>\n",
       "      <td>7.72</td>\n",
       "      <td>not_completed</td>\n",
       "      <td>2017-05-22 12:59:29</td>\n",
       "    </tr>\n",
       "    <tr>\n",
       "      <td>1445663</td>\n",
       "      <td>44b1e577a76dc15a4e5134275c3eb8ca</td>\n",
       "      <td>b2501c4161c76f90466c7ec3a7e29b3e</td>\n",
       "      <td>3</td>\n",
       "      <td>NaN</td>\n",
       "      <td>False</td>\n",
       "      <td>8</td>\n",
       "      <td>NaN</td>\n",
       "      <td>4.67</td>\n",
       "      <td>4.67</td>\n",
       "      <td>completed</td>\n",
       "      <td>2017-05-22 16:28:07</td>\n",
       "    </tr>\n",
       "  </tbody>\n",
       "</table>\n",
       "<p>1445664 rows × 11 columns</p>\n",
       "</div>"
      ],
      "text/plain": [
       "                                  ride_id                           user_id  \\\n",
       "0        357a545ef665da69dd86ac33ae817f3a  c6f3a631ae33a84c343dd9c553889337   \n",
       "1        5714536c4b4b1b10c4cd8ac907537044  0bad5fc7936b072d8de8749b9dd608c6   \n",
       "2        5c8f5dec570b6597090f8b30ea33b0af  0bad5fc7936b072d8de8749b9dd608c6   \n",
       "3        0f37be24f23a15746eb8774e7a1bd934  37169a3d6636e14afabb1dbe01f5c83e   \n",
       "4        67f054abb8b60132dd7c19cb30e74e10  b89d8219faa82966c7b33ee69b484ad2   \n",
       "...                                   ...                               ...   \n",
       "1445659  790a5ce8fb2253953f99f08978d792ba  53e3cb5a4410c965300760b69f61a1c4   \n",
       "1445660  014a51a17ea56cb91040c7273fd50b15  4c3df7a611fe860a54fb0799e0001903   \n",
       "1445661  510083d4ed088808455d6db48f60e3ca  7ca9825c2744adf0ec4505e379a28b73   \n",
       "1445662  df315daa45794ac80001878f50e6f363  8f100f37bb092089f418936edc0f94c9   \n",
       "1445663  44b1e577a76dc15a4e5134275c3eb8ca  b2501c4161c76f90466c7ec3a7e29b3e   \n",
       "\n",
       "         loyalty.status                        booking_id  isGuest  \\\n",
       "0                     1  1ea36f95a86a5a876456ce66587f4882    False   \n",
       "1                     1                               NaN    False   \n",
       "2                     1                               NaN    False   \n",
       "3                     0                               NaN    False   \n",
       "4                     3                               NaN    False   \n",
       "...                 ...                               ...      ...   \n",
       "1445659               2                               NaN    False   \n",
       "1445660               1                               NaN    False   \n",
       "1445661               1                               NaN    False   \n",
       "1445662               3                               NaN    False   \n",
       "1445663               3                               NaN    False   \n",
       "\n",
       "         loyalty_points_earned price.loyalty.points_spent  price_nominal  \\\n",
       "0                            0                        NaN           5.48   \n",
       "1                            0                        NaN           4.72   \n",
       "2                            5                        NaN           4.72   \n",
       "3                            8                        NaN           7.68   \n",
       "4                            7                        NaN           4.00   \n",
       "...                        ...                        ...            ...   \n",
       "1445659                      8                        NaN           5.95   \n",
       "1445660                      9                        NaN           8.85   \n",
       "1445661                      6                        NaN           4.10   \n",
       "1445662                      0                        NaN           7.72   \n",
       "1445663                      8                        NaN           4.67   \n",
       "\n",
       "         price_after_discount          state           quote_date  \n",
       "0                        5.80  not_completed  2017-03-01 11:07:49  \n",
       "1                        4.72  not_completed  2017-03-02 22:45:02  \n",
       "2                        4.72      completed  2017-03-02 22:45:22  \n",
       "3                        7.68      completed  2017-03-03 00:22:45  \n",
       "4                        4.00      completed  2017-03-04 03:32:15  \n",
       "...                       ...            ...                  ...  \n",
       "1445659                  5.95      completed  2017-05-19 22:59:30  \n",
       "1445660                  8.85      completed  2017-05-20 05:14:17  \n",
       "1445661                  4.10      completed  2017-05-21 20:57:58  \n",
       "1445662                  7.72  not_completed  2017-05-22 12:59:29  \n",
       "1445663                  4.67      completed  2017-05-22 16:28:07  \n",
       "\n",
       "[1445664 rows x 11 columns]"
      ]
     },
     "execution_count": 6,
     "metadata": {},
     "output_type": "execute_result"
    }
   ],
   "source": [
    "df = pd.read_csv('rides.csv', delimiter=',')  \n",
    "df"
   ]
  },
  {
   "cell_type": "markdown",
   "metadata": {},
   "source": [
    "### Users by Loyalty Status"
   ]
  },
  {
   "cell_type": "code",
   "execution_count": 16,
   "metadata": {},
   "outputs": [
    {
     "data": {
      "text/html": [
       "<div>\n",
       "<style scoped>\n",
       "    .dataframe tbody tr th:only-of-type {\n",
       "        vertical-align: middle;\n",
       "    }\n",
       "\n",
       "    .dataframe tbody tr th {\n",
       "        vertical-align: top;\n",
       "    }\n",
       "\n",
       "    .dataframe thead th {\n",
       "        text-align: right;\n",
       "    }\n",
       "</style>\n",
       "<table border=\"1\" class=\"dataframe\">\n",
       "  <thead>\n",
       "    <tr style=\"text-align: right;\">\n",
       "      <th></th>\n",
       "      <th>user_id_count</th>\n",
       "    </tr>\n",
       "    <tr>\n",
       "      <th>loyalty.status</th>\n",
       "      <th></th>\n",
       "    </tr>\n",
       "  </thead>\n",
       "  <tbody>\n",
       "    <tr>\n",
       "      <td>0</td>\n",
       "      <td>404593</td>\n",
       "    </tr>\n",
       "    <tr>\n",
       "      <td>1</td>\n",
       "      <td>380751</td>\n",
       "    </tr>\n",
       "    <tr>\n",
       "      <td>2</td>\n",
       "      <td>353207</td>\n",
       "    </tr>\n",
       "    <tr>\n",
       "      <td>3</td>\n",
       "      <td>307113</td>\n",
       "    </tr>\n",
       "  </tbody>\n",
       "</table>\n",
       "</div>"
      ],
      "text/plain": [
       "                user_id_count\n",
       "loyalty.status               \n",
       "0                      404593\n",
       "1                      380751\n",
       "2                      353207\n",
       "3                      307113"
      ]
     },
     "execution_count": 16,
     "metadata": {},
     "output_type": "execute_result"
    }
   ],
   "source": [
    "Total_Loyalty_Statuses = df.groupby('loyalty.status').count().filter(['user_id']).rename(columns={'user_id':'user_id_count'})\n",
    "Total_Loyalty_Statuses"
   ]
  },
  {
   "cell_type": "markdown",
   "metadata": {},
   "source": [
    "### User Activity Completed vs. Not Completed"
   ]
  },
  {
   "cell_type": "code",
   "execution_count": 34,
   "metadata": {},
   "outputs": [
    {
     "data": {
      "text/html": [
       "<div>\n",
       "<style scoped>\n",
       "    .dataframe tbody tr th:only-of-type {\n",
       "        vertical-align: middle;\n",
       "    }\n",
       "\n",
       "    .dataframe tbody tr th {\n",
       "        vertical-align: top;\n",
       "    }\n",
       "\n",
       "    .dataframe thead th {\n",
       "        text-align: right;\n",
       "    }\n",
       "</style>\n",
       "<table border=\"1\" class=\"dataframe\">\n",
       "  <thead>\n",
       "    <tr style=\"text-align: right;\">\n",
       "      <th></th>\n",
       "      <th>user_id</th>\n",
       "    </tr>\n",
       "    <tr>\n",
       "      <th>state</th>\n",
       "      <th></th>\n",
       "    </tr>\n",
       "  </thead>\n",
       "  <tbody>\n",
       "    <tr>\n",
       "      <td>completed</td>\n",
       "      <td>1156808</td>\n",
       "    </tr>\n",
       "    <tr>\n",
       "      <td>not_completed</td>\n",
       "      <td>288856</td>\n",
       "    </tr>\n",
       "  </tbody>\n",
       "</table>\n",
       "</div>"
      ],
      "text/plain": [
       "               user_id\n",
       "state                 \n",
       "completed      1156808\n",
       "not_completed   288856"
      ]
     },
     "execution_count": 34,
     "metadata": {},
     "output_type": "execute_result"
    }
   ],
   "source": [
    "State_Loyalty = df.groupby('state').count().filter(['user_id'])\n",
    "State_Loyalty"
   ]
  },
  {
   "cell_type": "code",
   "execution_count": 155,
   "metadata": {
    "scrolled": false
   },
   "outputs": [],
   "source": [
    "Completed = df[(df.state == 'completed')] \n",
    "Not_Completed = df[(df.state == 'not_completed')] "
   ]
  },
  {
   "cell_type": "markdown",
   "metadata": {},
   "source": [
    "### Completed by Loyalty Status"
   ]
  },
  {
   "cell_type": "code",
   "execution_count": 156,
   "metadata": {
    "scrolled": false
   },
   "outputs": [
    {
     "data": {
      "text/html": [
       "<div>\n",
       "<style scoped>\n",
       "    .dataframe tbody tr th:only-of-type {\n",
       "        vertical-align: middle;\n",
       "    }\n",
       "\n",
       "    .dataframe tbody tr th {\n",
       "        vertical-align: top;\n",
       "    }\n",
       "\n",
       "    .dataframe thead th {\n",
       "        text-align: right;\n",
       "    }\n",
       "</style>\n",
       "<table border=\"1\" class=\"dataframe\">\n",
       "  <thead>\n",
       "    <tr style=\"text-align: right;\">\n",
       "      <th></th>\n",
       "      <th>user_id</th>\n",
       "    </tr>\n",
       "    <tr>\n",
       "      <th>loyalty.status</th>\n",
       "      <th></th>\n",
       "    </tr>\n",
       "  </thead>\n",
       "  <tbody>\n",
       "    <tr>\n",
       "      <td>0</td>\n",
       "      <td>277679</td>\n",
       "    </tr>\n",
       "    <tr>\n",
       "      <td>1</td>\n",
       "      <td>317957</td>\n",
       "    </tr>\n",
       "    <tr>\n",
       "      <td>2</td>\n",
       "      <td>298890</td>\n",
       "    </tr>\n",
       "    <tr>\n",
       "      <td>3</td>\n",
       "      <td>262282</td>\n",
       "    </tr>\n",
       "  </tbody>\n",
       "</table>\n",
       "</div>"
      ],
      "text/plain": [
       "                user_id\n",
       "loyalty.status         \n",
       "0                277679\n",
       "1                317957\n",
       "2                298890\n",
       "3                262282"
      ]
     },
     "execution_count": 156,
     "metadata": {},
     "output_type": "execute_result"
    }
   ],
   "source": [
    "Completed.groupby('loyalty.status').count().filter(['user_id'])"
   ]
  },
  {
   "cell_type": "markdown",
   "metadata": {},
   "source": [
    "### Not Completed by Loyalty Status"
   ]
  },
  {
   "cell_type": "code",
   "execution_count": 174,
   "metadata": {},
   "outputs": [
    {
     "data": {
      "text/html": [
       "<div>\n",
       "<style scoped>\n",
       "    .dataframe tbody tr th:only-of-type {\n",
       "        vertical-align: middle;\n",
       "    }\n",
       "\n",
       "    .dataframe tbody tr th {\n",
       "        vertical-align: top;\n",
       "    }\n",
       "\n",
       "    .dataframe thead th {\n",
       "        text-align: right;\n",
       "    }\n",
       "</style>\n",
       "<table border=\"1\" class=\"dataframe\">\n",
       "  <thead>\n",
       "    <tr style=\"text-align: right;\">\n",
       "      <th></th>\n",
       "      <th>user_id</th>\n",
       "    </tr>\n",
       "    <tr>\n",
       "      <th>loyalty.status</th>\n",
       "      <th></th>\n",
       "    </tr>\n",
       "  </thead>\n",
       "  <tbody>\n",
       "    <tr>\n",
       "      <td>0</td>\n",
       "      <td>126914</td>\n",
       "    </tr>\n",
       "    <tr>\n",
       "      <td>1</td>\n",
       "      <td>62794</td>\n",
       "    </tr>\n",
       "    <tr>\n",
       "      <td>2</td>\n",
       "      <td>54317</td>\n",
       "    </tr>\n",
       "    <tr>\n",
       "      <td>3</td>\n",
       "      <td>44831</td>\n",
       "    </tr>\n",
       "  </tbody>\n",
       "</table>\n",
       "</div>"
      ],
      "text/plain": [
       "                user_id\n",
       "loyalty.status         \n",
       "0                126914\n",
       "1                 62794\n",
       "2                 54317\n",
       "3                 44831"
      ]
     },
     "execution_count": 174,
     "metadata": {},
     "output_type": "execute_result"
    }
   ],
   "source": [
    "Not_Completed.groupby('loyalty.status').count().filter(['user_id'])"
   ]
  },
  {
   "cell_type": "markdown",
   "metadata": {},
   "source": [
    "### Statistics"
   ]
  },
  {
   "cell_type": "code",
   "execution_count": 148,
   "metadata": {
    "scrolled": true
   },
   "outputs": [
    {
     "data": {
      "text/html": [
       "<div>\n",
       "<style scoped>\n",
       "    .dataframe tbody tr th:only-of-type {\n",
       "        vertical-align: middle;\n",
       "    }\n",
       "\n",
       "    .dataframe tbody tr th {\n",
       "        vertical-align: top;\n",
       "    }\n",
       "\n",
       "    .dataframe thead th {\n",
       "        text-align: right;\n",
       "    }\n",
       "</style>\n",
       "<table border=\"1\" class=\"dataframe\">\n",
       "  <thead>\n",
       "    <tr style=\"text-align: right;\">\n",
       "      <th></th>\n",
       "      <th>loyalty.status</th>\n",
       "      <th>loyalty_points_earned</th>\n",
       "    </tr>\n",
       "  </thead>\n",
       "  <tbody>\n",
       "    <tr>\n",
       "      <td>mean</td>\n",
       "      <td>1.4</td>\n",
       "      <td>6.2</td>\n",
       "    </tr>\n",
       "    <tr>\n",
       "      <td>std</td>\n",
       "      <td>1.1</td>\n",
       "      <td>4.3</td>\n",
       "    </tr>\n",
       "    <tr>\n",
       "      <td>min</td>\n",
       "      <td>0.0</td>\n",
       "      <td>0.0</td>\n",
       "    </tr>\n",
       "    <tr>\n",
       "      <td>25%</td>\n",
       "      <td>0.0</td>\n",
       "      <td>4.0</td>\n",
       "    </tr>\n",
       "    <tr>\n",
       "      <td>50%</td>\n",
       "      <td>1.0</td>\n",
       "      <td>7.0</td>\n",
       "    </tr>\n",
       "    <tr>\n",
       "      <td>75%</td>\n",
       "      <td>2.0</td>\n",
       "      <td>9.0</td>\n",
       "    </tr>\n",
       "    <tr>\n",
       "      <td>max</td>\n",
       "      <td>3.0</td>\n",
       "      <td>59.0</td>\n",
       "    </tr>\n",
       "  </tbody>\n",
       "</table>\n",
       "</div>"
      ],
      "text/plain": [
       "      loyalty.status  loyalty_points_earned\n",
       "mean             1.4                    6.2\n",
       "std              1.1                    4.3\n",
       "min              0.0                    0.0\n",
       "25%              0.0                    4.0\n",
       "50%              1.0                    7.0\n",
       "75%              2.0                    9.0\n",
       "max              3.0                   59.0"
      ]
     },
     "execution_count": 148,
     "metadata": {},
     "output_type": "execute_result"
    }
   ],
   "source": [
    "df.describe().round(1).drop('count').drop(columns={'price_nominal','price_after_discount'})"
   ]
  },
  {
   "cell_type": "markdown",
   "metadata": {},
   "source": []
  },
  {
   "cell_type": "code",
   "execution_count": 161,
   "metadata": {},
   "outputs": [
    {
     "data": {
      "text/plain": [
       "'28% of all users had loyalty status 0'"
      ]
     },
     "execution_count": 161,
     "metadata": {},
     "output_type": "execute_result"
    }
   ],
   "source": [
    "Status_0 = '{:,.0%}'.format(round(404593 / 1445664,2)) + ' of all users had loyalty status 0'\n",
    "Status_0"
   ]
  },
  {
   "cell_type": "code",
   "execution_count": 164,
   "metadata": {},
   "outputs": [
    {
     "data": {
      "text/plain": [
       "'26% of all users had loyalty status 1'"
      ]
     },
     "execution_count": 164,
     "metadata": {},
     "output_type": "execute_result"
    }
   ],
   "source": [
    "Status_1 = '{:,.0%}'.format(round(380751 / 1445664,2)) + ' of all users had loyalty status 1'\n",
    "Status_1"
   ]
  },
  {
   "cell_type": "code",
   "execution_count": 163,
   "metadata": {},
   "outputs": [
    {
     "data": {
      "text/plain": [
       "'24% of all users had loyalty status 2'"
      ]
     },
     "execution_count": 163,
     "metadata": {},
     "output_type": "execute_result"
    }
   ],
   "source": [
    "Status_2 = '{:,.0%}'.format(round(353207 / 1445664,2)) + ' of all users had loyalty status 2'\n",
    "Status_2"
   ]
  },
  {
   "cell_type": "code",
   "execution_count": 165,
   "metadata": {},
   "outputs": [
    {
     "data": {
      "text/plain": [
       "'21% of all users had loyalty status 3'"
      ]
     },
     "execution_count": 165,
     "metadata": {},
     "output_type": "execute_result"
    }
   ],
   "source": [
    "Status_3 = '{:,.0%}'.format(round(307113 / 1445664,2)) + ' of all users had loyalty status 3'\n",
    "Status_3"
   ]
  },
  {
   "cell_type": "code",
   "execution_count": null,
   "metadata": {},
   "outputs": [],
   "source": []
  },
  {
   "cell_type": "code",
   "execution_count": 168,
   "metadata": {},
   "outputs": [
    {
     "data": {
      "text/plain": [
       "'19% of all users that completed process had loyalty status 0'"
      ]
     },
     "execution_count": 168,
     "metadata": {},
     "output_type": "execute_result"
    }
   ],
   "source": [
    "Status_0 = '{:,.0%}'.format(round(277679 / 1445664,2)) + ' of all users that completed process had loyalty status 0'\n",
    "Status_0"
   ]
  },
  {
   "cell_type": "code",
   "execution_count": 169,
   "metadata": {},
   "outputs": [
    {
     "data": {
      "text/plain": [
       "'22% of all users that completed process had loyalty status 1'"
      ]
     },
     "execution_count": 169,
     "metadata": {},
     "output_type": "execute_result"
    }
   ],
   "source": [
    "Status_1 = '{:,.0%}'.format(round(317957 / 1445664,2)) + ' of all users that completed process had loyalty status 1'\n",
    "Status_1"
   ]
  },
  {
   "cell_type": "code",
   "execution_count": 171,
   "metadata": {},
   "outputs": [
    {
     "data": {
      "text/plain": [
       "'21% of all users that completed process had loyalty status 2'"
      ]
     },
     "execution_count": 171,
     "metadata": {},
     "output_type": "execute_result"
    }
   ],
   "source": [
    "Status_2 = '{:,.0%}'.format(round(298890 / 1445664,2)) + ' of all users that completed process had loyalty status 2'\n",
    "Status_2"
   ]
  },
  {
   "cell_type": "code",
   "execution_count": 172,
   "metadata": {},
   "outputs": [
    {
     "data": {
      "text/plain": [
       "'18% of all users that completed process had loyalty status 2'"
      ]
     },
     "execution_count": 172,
     "metadata": {},
     "output_type": "execute_result"
    }
   ],
   "source": [
    "Status_3 = '{:,.0%}'.format(round(262282 / 1445664,2)) + ' of all users that completed process had loyalty status 2'\n",
    "Status_3"
   ]
  },
  {
   "cell_type": "code",
   "execution_count": null,
   "metadata": {},
   "outputs": [],
   "source": []
  }
 ],
 "metadata": {
  "kernelspec": {
   "display_name": "Python 3",
   "language": "python",
   "name": "python3"
  },
  "language_info": {
   "codemirror_mode": {
    "name": "ipython",
    "version": 3
   },
   "file_extension": ".py",
   "mimetype": "text/x-python",
   "name": "python",
   "nbconvert_exporter": "python",
   "pygments_lexer": "ipython3",
   "version": "3.7.4"
  }
 },
 "nbformat": 4,
 "nbformat_minor": 2
}
