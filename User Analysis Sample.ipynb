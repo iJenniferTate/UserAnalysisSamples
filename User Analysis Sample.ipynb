{
 "cells": [
  {
   "cell_type": "markdown",
   "metadata": {},
   "source": [
    "## User Analysis -  Interaction with promo feature for ride sharing app\n",
    "\n",
    "A trial of the promo feature was released to current users of the app for a limited time period. Data is from a random subset of the apps ride data which has been altered for privacy purposes. Summary:\n",
    "\n",
    "\n",
    "### 1. User Interaction with feature that led to ride Purchase & Overall Conversion Rate\n",
    "\n",
    "Of the 14% of users who did interact, 77% purchased a ride. Conversion rate over all users was 11% which is a bit above average benchmarked to UX standard of 1-10% range.    \n",
    "\n",
    "### 2. User Interaction with feature that did NOT lead to ride Purchase & Overall Task Abandonment Rate\n",
    "\n",
    "The remaining 23% of users who interacted abandoned the task before purchase. Task Abandonment Rate over all users was 89% which is close to mobile user average of ~86%.\n",
    "                           "
   ]
  },
  {
   "cell_type": "code",
   "execution_count": 71,
   "metadata": {},
   "outputs": [],
   "source": [
    "import pandas as pd\n",
    "import numpy as py"
   ]
  },
  {
   "cell_type": "code",
   "execution_count": null,
   "metadata": {
    "scrolled": true
   },
   "outputs": [],
   "source": []
  },
  {
   "cell_type": "markdown",
   "metadata": {},
   "source": [
    "#### Total User Dataset"
   ]
  },
  {
   "cell_type": "code",
   "execution_count": 233,
   "metadata": {
    "scrolled": false
   },
   "outputs": [
    {
     "data": {
      "text/plain": [
       "292309"
      ]
     },
     "execution_count": 233,
     "metadata": {},
     "output_type": "execute_result"
    }
   ],
   "source": [
    "df = pd.read_csv('events.csv', delimiter=',') \n",
    "\n",
    "Total_User_Events = len(df)\n",
    "Total_User_Events"
   ]
  },
  {
   "cell_type": "code",
   "execution_count": 123,
   "metadata": {},
   "outputs": [],
   "source": []
  },
  {
   "cell_type": "markdown",
   "metadata": {},
   "source": [
    "### All User Interactions with Promo Feature  "
   ]
  },
  {
   "cell_type": "code",
   "execution_count": 145,
   "metadata": {
    "scrolled": false
   },
   "outputs": [
    {
     "data": {
      "text/html": [
       "<div>\n",
       "<style scoped>\n",
       "    .dataframe tbody tr th:only-of-type {\n",
       "        vertical-align: middle;\n",
       "    }\n",
       "\n",
       "    .dataframe tbody tr th {\n",
       "        vertical-align: top;\n",
       "    }\n",
       "\n",
       "    .dataframe thead th {\n",
       "        text-align: right;\n",
       "    }\n",
       "</style>\n",
       "<table border=\"1\" class=\"dataframe\">\n",
       "  <thead>\n",
       "    <tr style=\"text-align: right;\">\n",
       "      <th></th>\n",
       "      <th>event_id</th>\n",
       "      <th>ride_id</th>\n",
       "      <th>type</th>\n",
       "      <th>user_id</th>\n",
       "      <th>promocode_name</th>\n",
       "    </tr>\n",
       "  </thead>\n",
       "  <tbody>\n",
       "    <tr>\n",
       "      <td>11779</td>\n",
       "      <td>ecbde73e90607cf0ce4fe3bb1541b8b9</td>\n",
       "      <td>NaN</td>\n",
       "      <td>coupon_created</td>\n",
       "      <td>48e7c284add9a9fdc750f45b06f52e09</td>\n",
       "      <td>promocode</td>\n",
       "    </tr>\n",
       "    <tr>\n",
       "      <td>11790</td>\n",
       "      <td>7b26ea3adf5669bfea76c9baa17dce86</td>\n",
       "      <td>NaN</td>\n",
       "      <td>coupon_created</td>\n",
       "      <td>6127e8b277f844ff7fef8de414515b33</td>\n",
       "      <td>promocode</td>\n",
       "    </tr>\n",
       "    <tr>\n",
       "      <td>11794</td>\n",
       "      <td>6592d6486a4bbda112877d99b32403c3</td>\n",
       "      <td>NaN</td>\n",
       "      <td>coupon_created</td>\n",
       "      <td>a43a49c7de4870b2b94553b948543753</td>\n",
       "      <td>promocode</td>\n",
       "    </tr>\n",
       "    <tr>\n",
       "      <td>11795</td>\n",
       "      <td>693ee065ac32912d5d3697684cf0c29d</td>\n",
       "      <td>NaN</td>\n",
       "      <td>coupon_created</td>\n",
       "      <td>09384c37586e3dd1f27a99658a4bd287</td>\n",
       "      <td>promocode</td>\n",
       "    </tr>\n",
       "    <tr>\n",
       "      <td>11796</td>\n",
       "      <td>0b6391b4e267857c441226936147dbc7</td>\n",
       "      <td>NaN</td>\n",
       "      <td>coupon_created</td>\n",
       "      <td>40851cc02514ee0f9d9c6abf6034fe6e</td>\n",
       "      <td>promocode</td>\n",
       "    </tr>\n",
       "    <tr>\n",
       "      <td>...</td>\n",
       "      <td>...</td>\n",
       "      <td>...</td>\n",
       "      <td>...</td>\n",
       "      <td>...</td>\n",
       "      <td>...</td>\n",
       "    </tr>\n",
       "    <tr>\n",
       "      <td>281167</td>\n",
       "      <td>8f9420c53e5be5e40da8a1ecac498853</td>\n",
       "      <td>c92f892dc3fef4b0df26040037aae321</td>\n",
       "      <td>other_coupon_action</td>\n",
       "      <td>a687008590316e2605a2ec755ba8a16f</td>\n",
       "      <td>promocode</td>\n",
       "    </tr>\n",
       "    <tr>\n",
       "      <td>281171</td>\n",
       "      <td>13b8fd3787fe7029d893bfdaa90312d6</td>\n",
       "      <td>8fa750a2a1f5a8ea1987032988643d6a</td>\n",
       "      <td>other_coupon_action</td>\n",
       "      <td>318f6790ae286b0cb0dbeb797703af93</td>\n",
       "      <td>promocode</td>\n",
       "    </tr>\n",
       "    <tr>\n",
       "      <td>282039</td>\n",
       "      <td>b759a6cec12ffbdd4b181fe816cba50e</td>\n",
       "      <td>fed18d07f589845e887ebc31e9c17d30</td>\n",
       "      <td>other_coupon_action</td>\n",
       "      <td>85f7ee7fc5c7ee99792087da887ed39f</td>\n",
       "      <td>promocode</td>\n",
       "    </tr>\n",
       "    <tr>\n",
       "      <td>282040</td>\n",
       "      <td>a39669f71d6e4ddaeb348dbadf0fa3e4</td>\n",
       "      <td>04cb9172855b750cebf14b96f9679358</td>\n",
       "      <td>other_coupon_action</td>\n",
       "      <td>57b63518e875366db5d55223fce7094a</td>\n",
       "      <td>promocode</td>\n",
       "    </tr>\n",
       "    <tr>\n",
       "      <td>282041</td>\n",
       "      <td>8c2aaa76961716a867a905ccab99e484</td>\n",
       "      <td>85cb9e751adf8568032af958816b4787</td>\n",
       "      <td>other_coupon_action</td>\n",
       "      <td>7e57fb2a43b34c5f2d6db2e5b33aa14e</td>\n",
       "      <td>promocode</td>\n",
       "    </tr>\n",
       "  </tbody>\n",
       "</table>\n",
       "<p>41988 rows × 5 columns</p>\n",
       "</div>"
      ],
      "text/plain": [
       "                                event_id                           ride_id  \\\n",
       "11779   ecbde73e90607cf0ce4fe3bb1541b8b9                               NaN   \n",
       "11790   7b26ea3adf5669bfea76c9baa17dce86                               NaN   \n",
       "11794   6592d6486a4bbda112877d99b32403c3                               NaN   \n",
       "11795   693ee065ac32912d5d3697684cf0c29d                               NaN   \n",
       "11796   0b6391b4e267857c441226936147dbc7                               NaN   \n",
       "...                                  ...                               ...   \n",
       "281167  8f9420c53e5be5e40da8a1ecac498853  c92f892dc3fef4b0df26040037aae321   \n",
       "281171  13b8fd3787fe7029d893bfdaa90312d6  8fa750a2a1f5a8ea1987032988643d6a   \n",
       "282039  b759a6cec12ffbdd4b181fe816cba50e  fed18d07f589845e887ebc31e9c17d30   \n",
       "282040  a39669f71d6e4ddaeb348dbadf0fa3e4  04cb9172855b750cebf14b96f9679358   \n",
       "282041  8c2aaa76961716a867a905ccab99e484  85cb9e751adf8568032af958816b4787   \n",
       "\n",
       "                       type                           user_id promocode_name  \n",
       "11779        coupon_created  48e7c284add9a9fdc750f45b06f52e09      promocode  \n",
       "11790        coupon_created  6127e8b277f844ff7fef8de414515b33      promocode  \n",
       "11794        coupon_created  a43a49c7de4870b2b94553b948543753      promocode  \n",
       "11795        coupon_created  09384c37586e3dd1f27a99658a4bd287      promocode  \n",
       "11796        coupon_created  40851cc02514ee0f9d9c6abf6034fe6e      promocode  \n",
       "...                     ...                               ...            ...  \n",
       "281167  other_coupon_action  a687008590316e2605a2ec755ba8a16f      promocode  \n",
       "281171  other_coupon_action  318f6790ae286b0cb0dbeb797703af93      promocode  \n",
       "282039  other_coupon_action  85f7ee7fc5c7ee99792087da887ed39f      promocode  \n",
       "282040  other_coupon_action  57b63518e875366db5d55223fce7094a      promocode  \n",
       "282041  other_coupon_action  7e57fb2a43b34c5f2d6db2e5b33aa14e      promocode  \n",
       "\n",
       "[41988 rows x 5 columns]"
      ]
     },
     "execution_count": 145,
     "metadata": {},
     "output_type": "execute_result"
    }
   ],
   "source": [
    "All_Interaction = df[(df.promocode_name == 'promocode')]\n",
    "All_Interaction"
   ]
  },
  {
   "cell_type": "code",
   "execution_count": 169,
   "metadata": {},
   "outputs": [
    {
     "data": {
      "text/plain": [
       "41988"
      ]
     },
     "execution_count": 169,
     "metadata": {},
     "output_type": "execute_result"
    }
   ],
   "source": [
    "All_Interaction_Count = len(All_Interaction)\n",
    "All_Interaction_Count"
   ]
  },
  {
   "cell_type": "markdown",
   "metadata": {},
   "source": [
    "### User Interactions with Promo that led to Rides purchased"
   ]
  },
  {
   "cell_type": "code",
   "execution_count": 262,
   "metadata": {
    "scrolled": false
   },
   "outputs": [
    {
     "data": {
      "text/html": [
       "<div>\n",
       "<style scoped>\n",
       "    .dataframe tbody tr th:only-of-type {\n",
       "        vertical-align: middle;\n",
       "    }\n",
       "\n",
       "    .dataframe tbody tr th {\n",
       "        vertical-align: top;\n",
       "    }\n",
       "\n",
       "    .dataframe thead th {\n",
       "        text-align: right;\n",
       "    }\n",
       "</style>\n",
       "<table border=\"1\" class=\"dataframe\">\n",
       "  <thead>\n",
       "    <tr style=\"text-align: right;\">\n",
       "      <th></th>\n",
       "      <th>event_id</th>\n",
       "      <th>ride_id</th>\n",
       "      <th>type</th>\n",
       "      <th>user_id</th>\n",
       "      <th>promocode_name</th>\n",
       "    </tr>\n",
       "  </thead>\n",
       "  <tbody>\n",
       "    <tr>\n",
       "      <td>11957</td>\n",
       "      <td>70fa208817ec60b54f025e18ad0db431</td>\n",
       "      <td>14900e7fea5b669858df6a611d2e201b</td>\n",
       "      <td>other_coupon_action</td>\n",
       "      <td>605d7dc6ecab62cbde2b1865aa920fb3</td>\n",
       "      <td>promocode</td>\n",
       "    </tr>\n",
       "    <tr>\n",
       "      <td>11971</td>\n",
       "      <td>3478dff106243226f84e8ea25543fd6c</td>\n",
       "      <td>4ec9c10e0fe76dd327d2c48686ff2468</td>\n",
       "      <td>other_coupon_action</td>\n",
       "      <td>5f5fe5ec9a4740debd45b71478a7e393</td>\n",
       "      <td>promocode</td>\n",
       "    </tr>\n",
       "    <tr>\n",
       "      <td>11974</td>\n",
       "      <td>aa4775969fb9387c2d1fd4a38bb6042f</td>\n",
       "      <td>df1f21cad805527dd2090bd3510cf099</td>\n",
       "      <td>other_coupon_action</td>\n",
       "      <td>54cd84d7017e1a5024def305da7110be</td>\n",
       "      <td>promocode</td>\n",
       "    </tr>\n",
       "    <tr>\n",
       "      <td>11992</td>\n",
       "      <td>a65968166eaa0330876609b33643cddd</td>\n",
       "      <td>1ed4d3611316add439a4aa884f59e8b2</td>\n",
       "      <td>other_coupon_action</td>\n",
       "      <td>de9a263f18bc29cff34e8770a26b4c52</td>\n",
       "      <td>promocode</td>\n",
       "    </tr>\n",
       "    <tr>\n",
       "      <td>11999</td>\n",
       "      <td>74ec92143332f5cc943ef54f7ead7331</td>\n",
       "      <td>31e4ce5854d9075e9e091cba6d7ce171</td>\n",
       "      <td>other_coupon_action</td>\n",
       "      <td>c99824b637ebca2bb2ddddc1802ee9ec</td>\n",
       "      <td>promocode</td>\n",
       "    </tr>\n",
       "    <tr>\n",
       "      <td>...</td>\n",
       "      <td>...</td>\n",
       "      <td>...</td>\n",
       "      <td>...</td>\n",
       "      <td>...</td>\n",
       "      <td>...</td>\n",
       "    </tr>\n",
       "    <tr>\n",
       "      <td>281167</td>\n",
       "      <td>8f9420c53e5be5e40da8a1ecac498853</td>\n",
       "      <td>c92f892dc3fef4b0df26040037aae321</td>\n",
       "      <td>other_coupon_action</td>\n",
       "      <td>a687008590316e2605a2ec755ba8a16f</td>\n",
       "      <td>promocode</td>\n",
       "    </tr>\n",
       "    <tr>\n",
       "      <td>281171</td>\n",
       "      <td>13b8fd3787fe7029d893bfdaa90312d6</td>\n",
       "      <td>8fa750a2a1f5a8ea1987032988643d6a</td>\n",
       "      <td>other_coupon_action</td>\n",
       "      <td>318f6790ae286b0cb0dbeb797703af93</td>\n",
       "      <td>promocode</td>\n",
       "    </tr>\n",
       "    <tr>\n",
       "      <td>282039</td>\n",
       "      <td>b759a6cec12ffbdd4b181fe816cba50e</td>\n",
       "      <td>fed18d07f589845e887ebc31e9c17d30</td>\n",
       "      <td>other_coupon_action</td>\n",
       "      <td>85f7ee7fc5c7ee99792087da887ed39f</td>\n",
       "      <td>promocode</td>\n",
       "    </tr>\n",
       "    <tr>\n",
       "      <td>282040</td>\n",
       "      <td>a39669f71d6e4ddaeb348dbadf0fa3e4</td>\n",
       "      <td>04cb9172855b750cebf14b96f9679358</td>\n",
       "      <td>other_coupon_action</td>\n",
       "      <td>57b63518e875366db5d55223fce7094a</td>\n",
       "      <td>promocode</td>\n",
       "    </tr>\n",
       "    <tr>\n",
       "      <td>282041</td>\n",
       "      <td>8c2aaa76961716a867a905ccab99e484</td>\n",
       "      <td>85cb9e751adf8568032af958816b4787</td>\n",
       "      <td>other_coupon_action</td>\n",
       "      <td>7e57fb2a43b34c5f2d6db2e5b33aa14e</td>\n",
       "      <td>promocode</td>\n",
       "    </tr>\n",
       "  </tbody>\n",
       "</table>\n",
       "<p>32178 rows × 5 columns</p>\n",
       "</div>"
      ],
      "text/plain": [
       "                                event_id                           ride_id  \\\n",
       "11957   70fa208817ec60b54f025e18ad0db431  14900e7fea5b669858df6a611d2e201b   \n",
       "11971   3478dff106243226f84e8ea25543fd6c  4ec9c10e0fe76dd327d2c48686ff2468   \n",
       "11974   aa4775969fb9387c2d1fd4a38bb6042f  df1f21cad805527dd2090bd3510cf099   \n",
       "11992   a65968166eaa0330876609b33643cddd  1ed4d3611316add439a4aa884f59e8b2   \n",
       "11999   74ec92143332f5cc943ef54f7ead7331  31e4ce5854d9075e9e091cba6d7ce171   \n",
       "...                                  ...                               ...   \n",
       "281167  8f9420c53e5be5e40da8a1ecac498853  c92f892dc3fef4b0df26040037aae321   \n",
       "281171  13b8fd3787fe7029d893bfdaa90312d6  8fa750a2a1f5a8ea1987032988643d6a   \n",
       "282039  b759a6cec12ffbdd4b181fe816cba50e  fed18d07f589845e887ebc31e9c17d30   \n",
       "282040  a39669f71d6e4ddaeb348dbadf0fa3e4  04cb9172855b750cebf14b96f9679358   \n",
       "282041  8c2aaa76961716a867a905ccab99e484  85cb9e751adf8568032af958816b4787   \n",
       "\n",
       "                       type                           user_id promocode_name  \n",
       "11957   other_coupon_action  605d7dc6ecab62cbde2b1865aa920fb3      promocode  \n",
       "11971   other_coupon_action  5f5fe5ec9a4740debd45b71478a7e393      promocode  \n",
       "11974   other_coupon_action  54cd84d7017e1a5024def305da7110be      promocode  \n",
       "11992   other_coupon_action  de9a263f18bc29cff34e8770a26b4c52      promocode  \n",
       "11999   other_coupon_action  c99824b637ebca2bb2ddddc1802ee9ec      promocode  \n",
       "...                     ...                               ...            ...  \n",
       "281167  other_coupon_action  a687008590316e2605a2ec755ba8a16f      promocode  \n",
       "281171  other_coupon_action  318f6790ae286b0cb0dbeb797703af93      promocode  \n",
       "282039  other_coupon_action  85f7ee7fc5c7ee99792087da887ed39f      promocode  \n",
       "282040  other_coupon_action  57b63518e875366db5d55223fce7094a      promocode  \n",
       "282041  other_coupon_action  7e57fb2a43b34c5f2d6db2e5b33aa14e      promocode  \n",
       "\n",
       "[32178 rows x 5 columns]"
      ]
     },
     "execution_count": 262,
     "metadata": {},
     "output_type": "execute_result"
    }
   ],
   "source": [
    "Total_Rides = df[(df.promocode_name == 'promocode') & (df.ride_id.notnull())]\n",
    "Total_Rides"
   ]
  },
  {
   "cell_type": "code",
   "execution_count": 136,
   "metadata": {
    "scrolled": true
   },
   "outputs": [
    {
     "data": {
      "text/plain": [
       "32178"
      ]
     },
     "execution_count": 136,
     "metadata": {},
     "output_type": "execute_result"
    }
   ],
   "source": [
    "Total_Rides_Count = len(Total_Rides)\n",
    "Total_Rides_Count"
   ]
  },
  {
   "cell_type": "markdown",
   "metadata": {},
   "source": [
    "### Conversion Rate Overall  +  User % who interacted with Promo Feature which led to Ride purchase"
   ]
  },
  {
   "cell_type": "code",
   "execution_count": 246,
   "metadata": {},
   "outputs": [
    {
     "data": {
      "text/plain": [
       "'11% of overall user events led to rides'"
      ]
     },
     "execution_count": 246,
     "metadata": {},
     "output_type": "execute_result"
    }
   ],
   "source": [
    "Conversion_Rate = '{:,.0%}'.format(round(Total_Rides_Count / Total_User_Events,2)) + ' of overall user events led to rides'\n",
    "Conversion_Rate"
   ]
  },
  {
   "cell_type": "code",
   "execution_count": 247,
   "metadata": {
    "scrolled": false
   },
   "outputs": [
    {
     "data": {
      "text/plain": [
       "'77% of all user interactions with feature led to rides'"
      ]
     },
     "execution_count": 247,
     "metadata": {},
     "output_type": "execute_result"
    }
   ],
   "source": [
    "Interaction_Conversion = '{:,.0%}'.format(round(Total_Rides_Count / All_Interaction_Count,2)) + ' of all user interactions with feature led to rides'\n",
    "Interaction_Conversion"
   ]
  },
  {
   "cell_type": "markdown",
   "metadata": {},
   "source": [
    "### User Interactions that did NOT lead to Ride purchase"
   ]
  },
  {
   "cell_type": "code",
   "execution_count": 263,
   "metadata": {
    "scrolled": true
   },
   "outputs": [],
   "source": [
    "Interaction_Incomplete = df[(df.promocode_name == 'promocode') & (df.type == 'coupon_created')]\n",
    "#Interaction_Incomplete\n",
    "#coupon created but NOT used"
   ]
  },
  {
   "cell_type": "code",
   "execution_count": 148,
   "metadata": {},
   "outputs": [
    {
     "data": {
      "text/plain": [
       "9805"
      ]
     },
     "execution_count": 148,
     "metadata": {},
     "output_type": "execute_result"
    }
   ],
   "source": [
    "Interaction_Incomplete_Count = len(Interaction_Incomplete)\n",
    "Interaction_Incomplete_Count"
   ]
  },
  {
   "cell_type": "markdown",
   "metadata": {},
   "source": [
    "### Task Abandonment Rate Overall + User % who interacted with Promo Feature but did NOT purchase Ride"
   ]
  },
  {
   "cell_type": "code",
   "execution_count": 259,
   "metadata": {},
   "outputs": [
    {
     "data": {
      "text/plain": [
       "260131"
      ]
     },
     "execution_count": 259,
     "metadata": {},
     "output_type": "execute_result"
    }
   ],
   "source": [
    "Incomplete_of_Total = Total_User_Events - Total_Rides_Count #No_Ride\n",
    "Incomplete_of_Total\n",
    "# Subtracts the Total Rides Count from the entire User Events Dataset"
   ]
  },
  {
   "cell_type": "code",
   "execution_count": 253,
   "metadata": {},
   "outputs": [
    {
     "data": {
      "text/plain": [
       "'89% of all user events did not lead to rides'"
      ]
     },
     "execution_count": 253,
     "metadata": {},
     "output_type": "execute_result"
    }
   ],
   "source": [
    "Task_Abandon_Rate ='{:,.0%}'.format(round(Incomplete_of_Total / Total_User_Events,2)) + ' of all user events did not lead to rides'\n",
    "Task_Abandon_Rate"
   ]
  },
  {
   "cell_type": "code",
   "execution_count": 256,
   "metadata": {},
   "outputs": [
    {
     "data": {
      "text/plain": [
       "'23% of all user interactions with feature did NOT lead to rides, incomplete'"
      ]
     },
     "execution_count": 256,
     "metadata": {},
     "output_type": "execute_result"
    }
   ],
   "source": [
    "Interaction_Incomplete = '{:,.0%}'.format(round(Interaction_Incomplete_Count / All_Interaction_Count,2)) + ' of all user interactions with feature did NOT lead to rides, incomplete'\n",
    "Interaction_Incomplete"
   ]
  },
  {
   "cell_type": "code",
   "execution_count": null,
   "metadata": {},
   "outputs": [],
   "source": []
  }
 ],
 "metadata": {
  "kernelspec": {
   "display_name": "Python 3",
   "language": "python",
   "name": "python3"
  },
  "language_info": {
   "codemirror_mode": {
    "name": "ipython",
    "version": 3
   },
   "file_extension": ".py",
   "mimetype": "text/x-python",
   "name": "python",
   "nbconvert_exporter": "python",
   "pygments_lexer": "ipython3",
   "version": "3.7.4"
  }
 },
 "nbformat": 4,
 "nbformat_minor": 2
}
